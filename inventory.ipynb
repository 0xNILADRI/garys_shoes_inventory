{
 "cells": [
  {
   "cell_type": "code",
   "execution_count": null,
   "metadata": {},
   "outputs": [],
   "source": [
    "# import libraries\n",
    "import numpy as np\n",
    "import pandas as pd\n",
    "import matplotlib.pyplot as plt\n",
    "from matplotlib.pyplot import figure\n",
    "import seaborn as sns\n",
    "import math\n",
    "\n",
    "# default='warn'\n",
    "pd.options.mode.chained_assignment = None  \n",
    "pd.set_option('display.max_columns', None)\n",
    "\n",
    "%matplotlib inline"
   ]
  },
  {
   "cell_type": "code",
   "execution_count": null,
   "metadata": {},
   "outputs": [],
   "source": [
    "# import data\n",
    "df = pd.read_csv('data.csv',delimiter=',')\n",
    "df.head()"
   ]
  },
  {
   "cell_type": "code",
   "execution_count": null,
   "metadata": {},
   "outputs": [],
   "source": [
    "# check duplicated values\n",
    "df.duplicated().all()"
   ]
  },
  {
   "cell_type": "code",
   "execution_count": null,
   "metadata": {},
   "outputs": [],
   "source": [
    "# check null values \n",
    "df.isna().all()"
   ]
  },
  {
   "cell_type": "code",
   "execution_count": null,
   "metadata": {},
   "outputs": [],
   "source": [
    "# check datatype\n",
    "df.dtypes"
   ]
  },
  {
   "cell_type": "code",
   "execution_count": null,
   "metadata": {},
   "outputs": [],
   "source": [
    "# country names\n",
    "df.country.unique()"
   ]
  },
  {
   "cell_type": "code",
   "execution_count": null,
   "metadata": {},
   "outputs": [],
   "source": [
    "# year\n",
    "df.year.unique()"
   ]
  },
  {
   "cell_type": "code",
   "execution_count": null,
   "metadata": {},
   "outputs": [],
   "source": [
    "# create sale data for each country and year \n",
    "\n",
    "def procreation(data,cntry,yr):\n",
    "    aa = data.size_us.unique().tolist()\n",
    "    aa.sort()\n",
    "    dat = {'size_us':aa}\n",
    "    df_new = pd.DataFrame(dat)\n",
    "    d_n = pd.DataFrame(columns=range(1,13))\n",
    "    df_new = df_new.append(d_n, ignore_index = True) \n",
    "    for mon in range(1,13):\n",
    "        dd = data[(data['year']==yr) & (data['country']==cntry) & \n",
    "                       (data['month']==mon)]['size_us'].value_counts().tolist()\n",
    "        dd1 = data[(data['year']==yr) & (data['country']==cntry) \n",
    "                   & (data['month']==mon)]['size_us'].value_counts().keys().tolist()\n",
    "        dd11 = pd.DataFrame({'size':dd1,'count':dd})\n",
    "        for ind , si in enumerate(df_new.size_us):\n",
    "            for i,j in enumerate(dd11['size']):\n",
    "                if si == j:\n",
    "                    df_new[mon][ind] = dd11['count'][i]\n",
    "    df_new.fillna(0,inplace=True)\n",
    "    df_new.columns = ['size_us']+[str(x)+'_'+ str(yr) for x in ['jan','feb','mar','apr','may','jun',\n",
    "                                                                'jul','aug','sep','oct','nov','dec']]\n",
    "    return df_new\n",
    "\n",
    "\n",
    "def procreation_shop(data,cntry,yr,shop):\n",
    "    aa = data.size_us.unique().tolist()\n",
    "    aa.sort()\n",
    "    dat = {'size_us':aa}\n",
    "    df_new = pd.DataFrame(dat)\n",
    "    d_n = pd.DataFrame(columns=range(1,13))\n",
    "    df_new = df_new.append(d_n, ignore_index = True) \n",
    "    for mon in range(1,13):\n",
    "        dd = data[(data['year']==yr) & (data['country']==cntry) & \n",
    "                       (data['month']==mon) & (data['shop']==shop)]['size_us'].value_counts().tolist()\n",
    "        dd1 = data[(data['year']==yr) & (data['country']==cntry) \n",
    "                   & (data['month']==mon) & (data['shop']==shop)]['size_us'].value_counts().keys().tolist()\n",
    "        dd11 = pd.DataFrame({'size':dd1,'count':dd})\n",
    "        for ind , si in enumerate(df_new.size_us):\n",
    "            for i,j in enumerate(dd11['size']):\n",
    "                if si == j:\n",
    "                    df_new[mon][ind] = dd11['count'][i]\n",
    "    df_new.fillna(0,inplace=True)\n",
    "    df_new.columns = ['size_us']+[str(x)+'_'+ str(yr) for x in ['jan','feb','mar','apr','may','jun',\n",
    "                                                                'jul','aug','sep','oct','nov','dec']]\n",
    "    return df_new\n",
    "\n",
    "\n",
    "def sum_all_country(data,cntry):\n",
    "    count = 0\n",
    "    for i in [2014,1015,2016]:\n",
    "        if count == 0:\n",
    "            df = procreation(data,cntry,i)\n",
    "            df_OK = df.copy()\n",
    "            count += 1\n",
    "        else:\n",
    "            df = procreation(data,cntry,i)\n",
    "            df_OK = pd.merge(df_OK,df,on='size_us')\n",
    "            \n",
    "    return df_OK\n",
    "\n",
    "def sum_all_shop(data,cntry,shop):\n",
    "    count = 0\n",
    "    for i in [2014,1015,2016]:\n",
    "        if count == 0:\n",
    "            df = procreation_shop(data,cntry,i,shop)\n",
    "            df_OK = df.copy()\n",
    "            count += 1\n",
    "        else:\n",
    "            df = procreation_shop(data,cntry,i,shop)\n",
    "            df_OK = pd.merge(df_OK,df,on='size_us')\n",
    "            \n",
    "    return df_OK"
   ]
  },
  {
   "cell_type": "markdown",
   "metadata": {},
   "source": [
    "#### We'll now generate the US sales data for the following years : 2014 , 2015 , 2016"
   ]
  },
  {
   "cell_type": "code",
   "execution_count": null,
   "metadata": {},
   "outputs": [],
   "source": [
    "# US sale data\n",
    "df_US = sum_all_country(df,'United States')"
   ]
  },
  {
   "cell_type": "code",
   "execution_count": null,
   "metadata": {},
   "outputs": [],
   "source": [
    "df_US"
   ]
  },
  {
   "cell_type": "markdown",
   "metadata": {},
   "source": [
    "#### We'll now generate the UK sales data for the following years : 2014 , 2015 , 2016"
   ]
  },
  {
   "cell_type": "code",
   "execution_count": null,
   "metadata": {},
   "outputs": [],
   "source": [
    "# UK sale data\n",
    "df_UK = sum_all_country(df,'United Kingdom')"
   ]
  },
  {
   "cell_type": "code",
   "execution_count": null,
   "metadata": {},
   "outputs": [],
   "source": [
    "df_UK"
   ]
  },
  {
   "cell_type": "markdown",
   "metadata": {},
   "source": [
    "#### We'll now generate the Canada sales data for the following years : 2014 , 2015 , 2016"
   ]
  },
  {
   "cell_type": "code",
   "execution_count": null,
   "metadata": {},
   "outputs": [],
   "source": [
    "# Canada sale data\n",
    "df_CANADA = sum_all_country(df,'Canada')"
   ]
  },
  {
   "cell_type": "code",
   "execution_count": null,
   "metadata": {},
   "outputs": [],
   "source": [
    "df_CANADA"
   ]
  },
  {
   "cell_type": "markdown",
   "metadata": {},
   "source": [
    "#### We'll now generate the Germany sales data for the following years : 2014 , 2015 , 2016"
   ]
  },
  {
   "cell_type": "code",
   "execution_count": null,
   "metadata": {},
   "outputs": [],
   "source": [
    "# Germany sale data\n",
    "df_GERMANY = sum_all_country(df,'Germany')"
   ]
  },
  {
   "cell_type": "code",
   "execution_count": null,
   "metadata": {},
   "outputs": [],
   "source": [
    "df_GERMANY"
   ]
  },
  {
   "cell_type": "markdown",
   "metadata": {},
   "source": [
    "### Get Sale Data for indiviual shops"
   ]
  },
  {
   "cell_type": "markdown",
   "metadata": {},
   "source": [
    "### United States"
   ]
  },
  {
   "cell_type": "code",
   "execution_count": null,
   "metadata": {
    "scrolled": true
   },
   "outputs": [],
   "source": [
    "df[df['country'] == 'United States'].shop.unique().tolist()"
   ]
  },
  {
   "cell_type": "code",
   "execution_count": null,
   "metadata": {},
   "outputs": [],
   "source": [
    "US1_hist = sum_all_shop(df,'United States','US1')"
   ]
  },
  {
   "cell_type": "code",
   "execution_count": null,
   "metadata": {},
   "outputs": [],
   "source": [
    "US2_hist = sum_all_shop(df,'United States','US2')"
   ]
  },
  {
   "cell_type": "code",
   "execution_count": null,
   "metadata": {},
   "outputs": [],
   "source": [
    "US3_hist = sum_all_shop(df,'United States','US3')"
   ]
  },
  {
   "cell_type": "code",
   "execution_count": null,
   "metadata": {},
   "outputs": [],
   "source": [
    "US4_hist = sum_all_shop(df,'United States','US4')"
   ]
  },
  {
   "cell_type": "code",
   "execution_count": null,
   "metadata": {},
   "outputs": [],
   "source": [
    "US5_hist = sum_all_shop(df,'United States','US5')"
   ]
  },
  {
   "cell_type": "code",
   "execution_count": null,
   "metadata": {},
   "outputs": [],
   "source": [
    "US6_hist = sum_all_shop(df,'United States','US6')"
   ]
  },
  {
   "cell_type": "code",
   "execution_count": null,
   "metadata": {},
   "outputs": [],
   "source": [
    "US7_hist = sum_all_shop(df,'United States','US7')"
   ]
  },
  {
   "cell_type": "code",
   "execution_count": null,
   "metadata": {},
   "outputs": [],
   "source": [
    "US8_hist = sum_all_shop(df,'United States','US8')"
   ]
  },
  {
   "cell_type": "code",
   "execution_count": null,
   "metadata": {},
   "outputs": [],
   "source": [
    "US9_hist = sum_all_shop(df,'United States','US9')"
   ]
  },
  {
   "cell_type": "code",
   "execution_count": null,
   "metadata": {},
   "outputs": [],
   "source": [
    "US10_hist = sum_all_shop(df,'United States','US10')"
   ]
  },
  {
   "cell_type": "code",
   "execution_count": null,
   "metadata": {},
   "outputs": [],
   "source": [
    "US11_hist = sum_all_shop(df,'United States','US11')"
   ]
  },
  {
   "cell_type": "code",
   "execution_count": null,
   "metadata": {},
   "outputs": [],
   "source": [
    "US12_hist = sum_all_shop(df,'United States','US12')"
   ]
  },
  {
   "cell_type": "code",
   "execution_count": null,
   "metadata": {},
   "outputs": [],
   "source": [
    "US13_hist = sum_all_shop(df,'United States','US13')"
   ]
  },
  {
   "cell_type": "code",
   "execution_count": null,
   "metadata": {},
   "outputs": [],
   "source": [
    "US14_hist = sum_all_shop(df,'United States','US14')"
   ]
  },
  {
   "cell_type": "code",
   "execution_count": null,
   "metadata": {},
   "outputs": [],
   "source": [
    "US15_hist = sum_all_shop(df,'United States','US15')"
   ]
  },
  {
   "cell_type": "markdown",
   "metadata": {},
   "source": [
    "### United Kingdom"
   ]
  },
  {
   "cell_type": "code",
   "execution_count": null,
   "metadata": {},
   "outputs": [],
   "source": [
    "df[df['country'] == 'United Kingdom'].shop.unique().tolist()"
   ]
  },
  {
   "cell_type": "code",
   "execution_count": null,
   "metadata": {},
   "outputs": [],
   "source": [
    "UK1_hist = sum_all_shop(df,'United Kingdom','UK1')"
   ]
  },
  {
   "cell_type": "code",
   "execution_count": null,
   "metadata": {},
   "outputs": [],
   "source": [
    "UK2_hist = sum_all_shop(df,'United Kingdom','UK2')"
   ]
  },
  {
   "cell_type": "code",
   "execution_count": null,
   "metadata": {},
   "outputs": [],
   "source": [
    "UK3_hist = sum_all_shop(df,'United Kingdom','UK3')"
   ]
  },
  {
   "cell_type": "code",
   "execution_count": null,
   "metadata": {},
   "outputs": [],
   "source": [
    "UK4_hist = sum_all_shop(df,'United Kingdom','UK4')"
   ]
  },
  {
   "cell_type": "code",
   "execution_count": null,
   "metadata": {},
   "outputs": [],
   "source": [
    "UK5_hist = sum_all_shop(df,'United Kingdom','UK5')"
   ]
  },
  {
   "cell_type": "markdown",
   "metadata": {},
   "source": [
    "### Canada"
   ]
  },
  {
   "cell_type": "code",
   "execution_count": null,
   "metadata": {},
   "outputs": [],
   "source": [
    "df[df['country'] == 'Canada'].shop.unique().tolist()"
   ]
  },
  {
   "cell_type": "code",
   "execution_count": null,
   "metadata": {},
   "outputs": [],
   "source": [
    "CAN1_hist = sum_all_shop(df,'Canada','CAN1')"
   ]
  },
  {
   "cell_type": "code",
   "execution_count": null,
   "metadata": {},
   "outputs": [],
   "source": [
    "CAN2_hist = sum_all_shop(df,'Canada','CAN2')"
   ]
  },
  {
   "cell_type": "code",
   "execution_count": null,
   "metadata": {},
   "outputs": [],
   "source": [
    "CAN3_hist = sum_all_shop(df,'Canada','CAN3')"
   ]
  },
  {
   "cell_type": "code",
   "execution_count": null,
   "metadata": {},
   "outputs": [],
   "source": [
    "CAN4_hist = sum_all_shop(df,'Canada','CAN4')"
   ]
  },
  {
   "cell_type": "code",
   "execution_count": null,
   "metadata": {},
   "outputs": [],
   "source": [
    "CAN5_hist = sum_all_shop(df,'Canada','CAN5')"
   ]
  },
  {
   "cell_type": "code",
   "execution_count": null,
   "metadata": {},
   "outputs": [],
   "source": [
    "CAN6_hist = sum_all_shop(df,'Canada','CAN6')"
   ]
  },
  {
   "cell_type": "code",
   "execution_count": null,
   "metadata": {},
   "outputs": [],
   "source": [
    "CAN7_hist = sum_all_shop(df,'Canada','CAN7')"
   ]
  },
  {
   "cell_type": "markdown",
   "metadata": {},
   "source": [
    "### Germany"
   ]
  },
  {
   "cell_type": "code",
   "execution_count": null,
   "metadata": {},
   "outputs": [],
   "source": [
    "df[df['country'] == 'Germany'].shop.unique().tolist()"
   ]
  },
  {
   "cell_type": "code",
   "execution_count": null,
   "metadata": {},
   "outputs": [],
   "source": [
    "GER1_hist = sum_all_shop(df,'Germany','GER1')"
   ]
  },
  {
   "cell_type": "code",
   "execution_count": null,
   "metadata": {},
   "outputs": [],
   "source": [
    "GER2_hist = sum_all_shop(df,'Germany','GER2')"
   ]
  },
  {
   "cell_type": "code",
   "execution_count": null,
   "metadata": {},
   "outputs": [],
   "source": [
    "GER3_hist = sum_all_shop(df,'Germany','GER3')"
   ]
  },
  {
   "cell_type": "markdown",
   "metadata": {},
   "source": [
    "### Statistical Analysis "
   ]
  },
  {
   "cell_type": "code",
   "execution_count": null,
   "metadata": {},
   "outputs": [],
   "source": [
    "# Function to calculate mean : overall , year : 2014,2015,2016 , standard_error , margin of error , 95% confidence interval\n",
    "# and finally the total number of shoes should be stacked for each.\n",
    "\n",
    "def calculate(data):\n",
    "    '''\n",
    "    \n",
    "    We will perform T statistics here, because :\n",
    "        Small sample data.\n",
    "        We have sample data, unknown variance.\n",
    "        We assume the distribution is normal.\n",
    "        \n",
    "        n = no of samples (36 - overall , 12 - each year)\n",
    "        degree of freedom = n -1 = 35 - overall, 11 - each year\n",
    "        95% confidence interval \n",
    "        alpha = 0.05\n",
    "        alpha/2 = 0.025\n",
    "        \n",
    "        t(11),(0.025) = 2.201 [T-Score]\n",
    "        t(35),(0.025) = 2.03 [T-Score-Overall]\n",
    "        \n",
    "    '''\n",
    "    t_value = 2.201\n",
    "    t_value_overall = 2.03\n",
    "    data['mean_2014'] = data.iloc[:, np.r_[:,1:13]].mean(axis=1)\n",
    "    data['mean_2015'] = data.iloc[:, np.r_[:,13:25]].mean(axis=1)\n",
    "    data['mean_2016'] = data.iloc[:, np.r_[:,25:37]].mean(axis=1)\n",
    "    data['mean_overall'] = data.iloc[:, np.r_[:,1:37]].mean(axis=1)\n",
    "    data['std_error_2014'] = data.iloc[:, np.r_[:,1:13]].std(axis=1)/math.sqrt(12)\n",
    "    data['std_error_2015'] = data.iloc[:, np.r_[:,13:25]].std(axis=1)/math.sqrt(12)\n",
    "    data['std_error_2016'] = data.iloc[:, np.r_[:,25:37]].std(axis=1)/math.sqrt(12)\n",
    "    data['std_error_overall'] = data.iloc[:, np.r_[:,1:37]].std(axis=1)/math.sqrt(36)\n",
    "    data['margin_of_error_2014'] = data['std_error_2014'] * t_value\n",
    "    data['margin_of_error_2015'] = data['std_error_2015'] * t_value\n",
    "    data['margin_of_error_2016'] = data['std_error_2016'] * t_value\n",
    "    data['margin_of_error_overall'] = data['std_error_overall'] * t_value_overall\n",
    "    data['ci_low_2014'] = data['mean_2014'] - data['margin_of_error_2014']\n",
    "    data['ci_high_2014'] = data['mean_2014'] + data['margin_of_error_2014']\n",
    "    data['ci_low_2015'] = data['mean_2015'] - data['margin_of_error_2015']\n",
    "    data['ci_high_2015'] = data['mean_2015'] + data['margin_of_error_2015']\n",
    "    data['ci_low_2016'] = data['mean_2016'] - data['margin_of_error_2016']\n",
    "    data['ci_high_2016'] = data['mean_2016'] + data['margin_of_error_2016']\n",
    "    data['ci_low_overall'] = data['mean_overall'] - data['margin_of_error_overall']\n",
    "    data['ci_high_overall'] = data['mean_overall'] + data['margin_of_error_overall']\n",
    "    data['#_pairs_2014'] = np.ceil(data['ci_high_2014'])\n",
    "    data['#_pairs_2015'] = np.ceil(data['ci_high_2015'])\n",
    "    data['#_pairs_2016'] = np.ceil(data['ci_high_2016'])\n",
    "    data['#_pairs_overall'] = np.ceil(data['ci_high_overall'])\n",
    "    data['#_pairs_overall_minus2014'] = np.ceil(data['ci_high_2014'])\n",
    "    data['#_pairs_overall_minus2015'] = np.ceil(data['ci_high_2015'])\n",
    "    data['#_pairs_overall_minus2016'] = np.ceil(data['ci_high_2016'])\n",
    "    \n",
    "    return data"
   ]
  },
  {
   "cell_type": "code",
   "execution_count": null,
   "metadata": {},
   "outputs": [],
   "source": [
    "# US\n",
    "calculate(df_US)"
   ]
  },
  {
   "cell_type": "code",
   "execution_count": null,
   "metadata": {},
   "outputs": [],
   "source": [
    "calculate(df_UK)"
   ]
  },
  {
   "cell_type": "code",
   "execution_count": null,
   "metadata": {},
   "outputs": [],
   "source": [
    "calculate(df_CANADA)"
   ]
  },
  {
   "cell_type": "code",
   "execution_count": null,
   "metadata": {},
   "outputs": [],
   "source": [
    "calculate(df_GERMANY)"
   ]
  },
  {
   "cell_type": "markdown",
   "metadata": {},
   "source": [
    "### Similarly for each store we can calculate the confidence interval and mange our inventory efficiently"
   ]
  },
  {
   "cell_type": "code",
   "execution_count": null,
   "metadata": {},
   "outputs": [],
   "source": [
    "calculate(US1_hist)"
   ]
  },
  {
   "cell_type": "markdown",
   "metadata": {},
   "source": [
    "We can calculate for rest of the store similarly."
   ]
  },
  {
   "cell_type": "markdown",
   "metadata": {},
   "source": [
    "### Visualization for the results for better understanding."
   ]
  },
  {
   "cell_type": "code",
   "execution_count": null,
   "metadata": {},
   "outputs": [],
   "source": [
    "def visualize(data):\n",
    "    figure(num=None, figsize=(10, 6), dpi=100, facecolor='w', edgecolor='k')\n",
    "    plt.plot(data['size_us'],data['#_pairs_2014'],label=\"2014\");\n",
    "    plt.plot(data['size_us'],data['#_pairs_2015'],label=\"2015\");\n",
    "    plt.plot(data['size_us'],data['#_pairs_2016'],label=\"2016\");\n",
    "    plt.plot(data['size_us'],data['#_pairs_overall'],label=\"Overall\");\n",
    "    plt.legend(loc=\"upper left\")\n",
    "    plt.show()"
   ]
  },
  {
   "cell_type": "code",
   "execution_count": null,
   "metadata": {},
   "outputs": [],
   "source": [
    "# United States\n",
    "visualize(df_US)"
   ]
  },
  {
   "cell_type": "code",
   "execution_count": null,
   "metadata": {},
   "outputs": [],
   "source": [
    "# United Kingdom\n",
    "visualize(df_UK)"
   ]
  },
  {
   "cell_type": "code",
   "execution_count": null,
   "metadata": {},
   "outputs": [],
   "source": [
    "# Canada\n",
    "visualize(df_CANADA)"
   ]
  },
  {
   "cell_type": "code",
   "execution_count": null,
   "metadata": {},
   "outputs": [],
   "source": [
    "# Germany\n",
    "visualize(df_GERMANY)"
   ]
  },
  {
   "cell_type": "code",
   "execution_count": null,
   "metadata": {},
   "outputs": [],
   "source": []
  }
 ],
 "metadata": {
  "kernelspec": {
   "display_name": "Python 3",
   "language": "python",
   "name": "python3"
  },
  "language_info": {
   "codemirror_mode": {
    "name": "ipython",
    "version": 3
   },
   "file_extension": ".py",
   "mimetype": "text/x-python",
   "name": "python",
   "nbconvert_exporter": "python",
   "pygments_lexer": "ipython3",
   "version": "3.6.12"
  }
 },
 "nbformat": 4,
 "nbformat_minor": 4
}
